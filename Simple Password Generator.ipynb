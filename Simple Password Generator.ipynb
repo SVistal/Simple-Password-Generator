{
 "cells": [
  {
   "cell_type": "code",
   "execution_count": null,
   "id": "f3cc8502-d4d9-40b9-a0e3-3e2fc3e521f6",
   "metadata": {},
   "outputs": [],
   "source": [
    "import string\n",
    "import secrets\n",
    "import pyperclip\n",
    "\n",
    "def generate_password(length=12, allowed_punct = string.punctuation):\n",
    "    allowed_chars = string.ascii_letters +string.digits+allowed_punct\n",
    "    allowed_set = set(allowed_chars) & set(string.printable)\n",
    "    password = \"\".join(secrets.choice(list(allowed_set)) for _ in range(length))\n",
    "    return password\n",
    "\n",
    "def main():\n",
    "    length = int(input(\"Enter password length: \"))\n",
    "    allowed_punct = input(\"Enter alloweed punctuation characters or press enter for default: \") or string.punctuation\n",
    "\n",
    "    password = generate_password(length=length, allowed_punct=allowed_punct)\n",
    "\n",
    "    print(f\"Generated password: {password}\")\n",
    "    pyperclip.copy(password)\n",
    "    print(\"Password copied to clipboard\")\n",
    "\n",
    "if __name__ == \"__main__\":\n",
    "    main()"
   ]
  },
  {
   "cell_type": "code",
   "execution_count": null,
   "id": "cd121f21-818f-41ed-b5f0-d584784f8bca",
   "metadata": {},
   "outputs": [],
   "source": []
  },
  {
   "cell_type": "code",
   "execution_count": null,
   "id": "03fa228a-71a5-4b06-b5de-13849cc4d31d",
   "metadata": {},
   "outputs": [],
   "source": []
  }
 ],
 "metadata": {
  "kernelspec": {
   "display_name": "Python 3 (ipykernel)",
   "language": "python",
   "name": "python3"
  },
  "language_info": {
   "codemirror_mode": {
    "name": "ipython",
    "version": 3
   },
   "file_extension": ".py",
   "mimetype": "text/x-python",
   "name": "python",
   "nbconvert_exporter": "python",
   "pygments_lexer": "ipython3",
   "version": "3.11.3"
  }
 },
 "nbformat": 4,
 "nbformat_minor": 5
}
